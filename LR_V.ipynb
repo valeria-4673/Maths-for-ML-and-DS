{
  "nbformat": 4,
  "nbformat_minor": 0,
  "metadata": {
    "colab": {
      "provenance": []
    },
    "kernelspec": {
      "name": "python3",
      "display_name": "Python 3"
    },
    "language_info": {
      "name": "python"
    }
  },
  "cells": [
    {
      "cell_type": "markdown",
      "source": [
        "# LR_ Years of experience and Salary"
      ],
      "metadata": {
        "id": "VV5zsUT4t4ra"
      }
    },
    {
      "cell_type": "code",
      "source": [
        "import numpy as np\n",
        "import tensorflow as tf\n",
        "import matplotlib.pyplot as plt\n",
        "import pandas as pd"
      ],
      "metadata": {
        "id": "vsHHk4fTuEhS"
      },
      "execution_count": null,
      "outputs": []
    },
    {
      "cell_type": "code",
      "source": [
        "# Data taken from https://www.geeksforgeeks.org/machine-learning/dataset-for-linear-regression/\n",
        "data = pd.read_csv('/content/Salary_Data[1].csv')"
      ],
      "metadata": {
        "id": "8rgz5fMW2KcO"
      },
      "execution_count": null,
      "outputs": []
    },
    {
      "cell_type": "code",
      "source": [
        "# Drop all the columns uninteresting\n",
        "df = data.drop(columns=['Age', 'Gender','Education Level','Job Title'])\n",
        "print(df.shape)"
      ],
      "metadata": {
        "id": "BHewKNc-3nmn",
        "colab": {
          "base_uri": "https://localhost:8080/"
        },
        "outputId": "376ba8a9-73ac-4ab1-fa34-7749cf15903b"
      },
      "execution_count": null,
      "outputs": [
        {
          "output_type": "stream",
          "name": "stdout",
          "text": [
            "(6704, 2)\n"
          ]
        }
      ]
    },
    {
      "cell_type": "code",
      "source": [
        "# # eliminate rows with at least one NaN\n",
        "df = df.dropna()\n",
        "print(df.shape)"
      ],
      "metadata": {
        "id": "gntISR1-5KME",
        "colab": {
          "base_uri": "https://localhost:8080/"
        },
        "outputId": "88d1c83c-8d24-4442-d488-36d65c59fc2f"
      },
      "execution_count": null,
      "outputs": [
        {
          "output_type": "stream",
          "name": "stdout",
          "text": [
            "(6699, 2)\n"
          ]
        }
      ]
    },
    {
      "cell_type": "code",
      "source": [
        "# Simplify the df\n",
        "df_avg = df.groupby('Years of Experience').mean().reset_index()\n",
        "print(df_avg.shape)"
      ],
      "metadata": {
        "id": "xf21wNxYAayz",
        "colab": {
          "base_uri": "https://localhost:8080/"
        },
        "outputId": "f3bcd117-d98e-4945-afb9-c27cbbf2fa71"
      },
      "execution_count": null,
      "outputs": [
        {
          "output_type": "stream",
          "name": "stdout",
          "text": [
            "(37, 2)\n"
          ]
        }
      ]
    },
    {
      "cell_type": "code",
      "source": [
        "from sklearn.compose import make_column_transformer\n",
        "from sklearn.preprocessing import MinMaxScaler\n",
        "from sklearn.model_selection import train_test_split\n",
        "\n",
        "# Create a column transformer. Designed for transforming input features\n",
        "ct = make_column_transformer(\n",
        "    (MinMaxScaler(), [\"Years of Experience\"]))\n",
        "ty = MinMaxScaler()\n",
        "\n",
        "# Create X & y\n",
        "X = df_avg.drop(\"Salary\", axis=1)\n",
        "y = df_avg[\"Salary\"]# es un df\n",
        "\n",
        "# Build our train and test sets\n",
        "X_train, X_test, y_train, y_test = train_test_split(X, y, test_size=0.2, random_state=29)\n",
        "\n",
        "# Fit the column transformer to our training data\n",
        "ct.fit(X_train)\n",
        "ty.fit(y_train.values.reshape(-1, 1))\n",
        "\n",
        "# Transform training and test data with normalization (MinMaxScaler)\n",
        "X_train_normal = ct.transform(X_train)\n",
        "X_test_normal = ct.transform(X_test)\n",
        "y_train_normal = ty.transform(y_train.values.reshape(-1, 1))\n",
        "y_test_normal = ty.transform( y_test.values.reshape(-1, 1))\n"
      ],
      "metadata": {
        "id": "yKWikqBFOEht"
      },
      "execution_count": null,
      "outputs": []
    },
    {
      "cell_type": "code",
      "source": [
        "# Data before\n",
        "X_train.loc[0]"
      ],
      "metadata": {
        "id": "iW1WuGdDRBNc",
        "colab": {
          "base_uri": "https://localhost:8080/",
          "height": 116
        },
        "outputId": "59886b70-c1f7-46ec-8fe7-d0a1b8e7cf8a"
      },
      "execution_count": null,
      "outputs": [
        {
          "output_type": "execute_result",
          "data": {
            "text/plain": [
              "Years of Experience    0.0\n",
              "Name: 0, dtype: float64"
            ],
            "text/html": [
              "<div>\n",
              "<style scoped>\n",
              "    .dataframe tbody tr th:only-of-type {\n",
              "        vertical-align: middle;\n",
              "    }\n",
              "\n",
              "    .dataframe tbody tr th {\n",
              "        vertical-align: top;\n",
              "    }\n",
              "\n",
              "    .dataframe thead th {\n",
              "        text-align: right;\n",
              "    }\n",
              "</style>\n",
              "<table border=\"1\" class=\"dataframe\">\n",
              "  <thead>\n",
              "    <tr style=\"text-align: right;\">\n",
              "      <th></th>\n",
              "      <th>0</th>\n",
              "    </tr>\n",
              "  </thead>\n",
              "  <tbody>\n",
              "    <tr>\n",
              "      <th>Years of Experience</th>\n",
              "      <td>0.0</td>\n",
              "    </tr>\n",
              "  </tbody>\n",
              "</table>\n",
              "</div><br><label><b>dtype:</b> float64</label>"
            ]
          },
          "metadata": {},
          "execution_count": 7
        }
      ]
    },
    {
      "cell_type": "code",
      "source": [
        "# Create the model\n",
        "tf.random.set_seed(29)\n",
        "\n",
        "# 1. Create a model\n",
        "model = tf.keras.Sequential([\n",
        "  tf.keras.layers.Dense(75),\n",
        "  tf.keras.layers.Dense(1, name=\"output_layer\")\n",
        "], name=\"model_1\")\n",
        "\n",
        "# 2. Compile the model\n",
        "model.compile(loss=tf.keras.losses.mae,\n",
        "              optimizer=tf.keras.optimizers.Adam(learning_rate=0.001),\n",
        "              metrics=[\"mae\"])\n",
        "\n",
        "# 3. Fit the model\n",
        "history = model.fit(X_train_normal, y_train_normal, epochs=200, verbose=0)"
      ],
      "metadata": {
        "id": "P3i-spBh8IW6"
      },
      "execution_count": null,
      "outputs": []
    },
    {
      "cell_type": "code",
      "source": [
        "model.summary()"
      ],
      "metadata": {
        "id": "bTkbM-Dy0Q4Y",
        "colab": {
          "base_uri": "https://localhost:8080/",
          "height": 225
        },
        "outputId": "df226547-dd02-477b-8a29-3c2d956f1714"
      },
      "execution_count": null,
      "outputs": [
        {
          "output_type": "display_data",
          "data": {
            "text/plain": [
              "\u001b[1mModel: \"model_1\"\u001b[0m\n"
            ],
            "text/html": [
              "<pre style=\"white-space:pre;overflow-x:auto;line-height:normal;font-family:Menlo,'DejaVu Sans Mono',consolas,'Courier New',monospace\"><span style=\"font-weight: bold\">Model: \"model_1\"</span>\n",
              "</pre>\n"
            ]
          },
          "metadata": {}
        },
        {
          "output_type": "display_data",
          "data": {
            "text/plain": [
              "┏━━━━━━━━━━━━━━━━━━━━━━━━━━━━━━━━━┳━━━━━━━━━━━━━━━━━━━━━━━━┳━━━━━━━━━━━━━━━┓\n",
              "┃\u001b[1m \u001b[0m\u001b[1mLayer (type)                   \u001b[0m\u001b[1m \u001b[0m┃\u001b[1m \u001b[0m\u001b[1mOutput Shape          \u001b[0m\u001b[1m \u001b[0m┃\u001b[1m \u001b[0m\u001b[1m      Param #\u001b[0m\u001b[1m \u001b[0m┃\n",
              "┡━━━━━━━━━━━━━━━━━━━━━━━━━━━━━━━━━╇━━━━━━━━━━━━━━━━━━━━━━━━╇━━━━━━━━━━━━━━━┩\n",
              "│ dense (\u001b[38;5;33mDense\u001b[0m)                   │ (\u001b[38;5;45mNone\u001b[0m, \u001b[38;5;34m75\u001b[0m)             │           \u001b[38;5;34m150\u001b[0m │\n",
              "├─────────────────────────────────┼────────────────────────┼───────────────┤\n",
              "│ output_layer (\u001b[38;5;33mDense\u001b[0m)            │ (\u001b[38;5;45mNone\u001b[0m, \u001b[38;5;34m1\u001b[0m)              │            \u001b[38;5;34m76\u001b[0m │\n",
              "└─────────────────────────────────┴────────────────────────┴───────────────┘\n"
            ],
            "text/html": [
              "<pre style=\"white-space:pre;overflow-x:auto;line-height:normal;font-family:Menlo,'DejaVu Sans Mono',consolas,'Courier New',monospace\">┏━━━━━━━━━━━━━━━━━━━━━━━━━━━━━━━━━┳━━━━━━━━━━━━━━━━━━━━━━━━┳━━━━━━━━━━━━━━━┓\n",
              "┃<span style=\"font-weight: bold\"> Layer (type)                    </span>┃<span style=\"font-weight: bold\"> Output Shape           </span>┃<span style=\"font-weight: bold\">       Param # </span>┃\n",
              "┡━━━━━━━━━━━━━━━━━━━━━━━━━━━━━━━━━╇━━━━━━━━━━━━━━━━━━━━━━━━╇━━━━━━━━━━━━━━━┩\n",
              "│ dense (<span style=\"color: #0087ff; text-decoration-color: #0087ff\">Dense</span>)                   │ (<span style=\"color: #00d7ff; text-decoration-color: #00d7ff\">None</span>, <span style=\"color: #00af00; text-decoration-color: #00af00\">75</span>)             │           <span style=\"color: #00af00; text-decoration-color: #00af00\">150</span> │\n",
              "├─────────────────────────────────┼────────────────────────┼───────────────┤\n",
              "│ output_layer (<span style=\"color: #0087ff; text-decoration-color: #0087ff\">Dense</span>)            │ (<span style=\"color: #00d7ff; text-decoration-color: #00d7ff\">None</span>, <span style=\"color: #00af00; text-decoration-color: #00af00\">1</span>)              │            <span style=\"color: #00af00; text-decoration-color: #00af00\">76</span> │\n",
              "└─────────────────────────────────┴────────────────────────┴───────────────┘\n",
              "</pre>\n"
            ]
          },
          "metadata": {}
        },
        {
          "output_type": "display_data",
          "data": {
            "text/plain": [
              "\u001b[1m Total params: \u001b[0m\u001b[38;5;34m680\u001b[0m (2.66 KB)\n"
            ],
            "text/html": [
              "<pre style=\"white-space:pre;overflow-x:auto;line-height:normal;font-family:Menlo,'DejaVu Sans Mono',consolas,'Courier New',monospace\"><span style=\"font-weight: bold\"> Total params: </span><span style=\"color: #00af00; text-decoration-color: #00af00\">680</span> (2.66 KB)\n",
              "</pre>\n"
            ]
          },
          "metadata": {}
        },
        {
          "output_type": "display_data",
          "data": {
            "text/plain": [
              "\u001b[1m Trainable params: \u001b[0m\u001b[38;5;34m226\u001b[0m (904.00 B)\n"
            ],
            "text/html": [
              "<pre style=\"white-space:pre;overflow-x:auto;line-height:normal;font-family:Menlo,'DejaVu Sans Mono',consolas,'Courier New',monospace\"><span style=\"font-weight: bold\"> Trainable params: </span><span style=\"color: #00af00; text-decoration-color: #00af00\">226</span> (904.00 B)\n",
              "</pre>\n"
            ]
          },
          "metadata": {}
        },
        {
          "output_type": "display_data",
          "data": {
            "text/plain": [
              "\u001b[1m Non-trainable params: \u001b[0m\u001b[38;5;34m0\u001b[0m (0.00 B)\n"
            ],
            "text/html": [
              "<pre style=\"white-space:pre;overflow-x:auto;line-height:normal;font-family:Menlo,'DejaVu Sans Mono',consolas,'Courier New',monospace\"><span style=\"font-weight: bold\"> Non-trainable params: </span><span style=\"color: #00af00; text-decoration-color: #00af00\">0</span> (0.00 B)\n",
              "</pre>\n"
            ]
          },
          "metadata": {}
        },
        {
          "output_type": "display_data",
          "data": {
            "text/plain": [
              "\u001b[1m Optimizer params: \u001b[0m\u001b[38;5;34m454\u001b[0m (1.78 KB)\n"
            ],
            "text/html": [
              "<pre style=\"white-space:pre;overflow-x:auto;line-height:normal;font-family:Menlo,'DejaVu Sans Mono',consolas,'Courier New',monospace\"><span style=\"font-weight: bold\"> Optimizer params: </span><span style=\"color: #00af00; text-decoration-color: #00af00\">454</span> (1.78 KB)\n",
              "</pre>\n"
            ]
          },
          "metadata": {}
        }
      ]
    },
    {
      "cell_type": "markdown",
      "source": [
        "![LR.JPG](data:image/jpeg;base64,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)"
      ],
      "metadata": {
        "id": "Ruzi7RcYL89B"
      }
    },
    {
      "cell_type": "code",
      "source": [
        "# Plot learning curve\n",
        "pd.DataFrame(history.history).plot()\n",
        "plt.ylabel(\"loss\")\n",
        "plt.xlabel(\"epochs\")"
      ],
      "metadata": {
        "id": "N0R8C-zCM7rI",
        "colab": {
          "base_uri": "https://localhost:8080/",
          "height": 466
        },
        "outputId": "19d7c1ab-f052-4222-c88c-9d81698235c4"
      },
      "execution_count": null,
      "outputs": [
        {
          "output_type": "execute_result",
          "data": {
            "text/plain": [
              "Text(0.5, 0, 'epochs')"
            ]
          },
          "metadata": {},
          "execution_count": 10
        },
        {
          "output_type": "display_data",
          "data": {
            "text/plain": [
              "<Figure size 640x480 with 1 Axes>"
            ],
            "image/png": "[encoded data removed]"
          },
          "metadata": {}
        }
      ]
    },
    {
      "cell_type": "code",
      "source": [
        "# Make some predictions\n",
        "y_pred = model.predict(X_test_normal)"
      ],
      "metadata": {
        "id": "yAyByWoq8lo1",
        "colab": {
          "base_uri": "https://localhost:8080/"
        },
        "outputId": "4b261e7d-188b-45c4-abac-72ca6971ec48"
      },
      "execution_count": null,
      "outputs": [
        {
          "output_type": "stream",
          "name": "stdout",
          "text": [
            "\u001b[1m1/1\u001b[0m \u001b[32m━━━━━━━━━━━━━━━━━━━━\u001b[0m\u001b[37m\u001b[0m \u001b[1m0s\u001b[0m 88ms/step\n"
          ]
        }
      ]
    },
    {
      "cell_type": "code",
      "source": [
        "# Evaluate the model on the test\n",
        "print('Final mae training: ', model.evaluate(X_train_normal, y_train_normal))\n",
        "print('Final mae test: ',model.evaluate(X_test_normal, y_test_normal))"
      ],
      "metadata": {
        "id": "OJ9G_Ntd_LqO",
        "colab": {
          "base_uri": "https://localhost:8080/"
        },
        "outputId": "254a1a03-4581-4764-9c1f-e58837f0947e"
      },
      "execution_count": null,
      "outputs": [
        {
          "output_type": "stream",
          "name": "stdout",
          "text": [
            "\u001b[1m1/1\u001b[0m \u001b[32m━━━━━━━━━━━━━━━━━━━━\u001b[0m\u001b[37m\u001b[0m \u001b[1m0s\u001b[0m 258ms/step - loss: 0.1436 - mae: 0.1436\n",
            "Final mae training:  [0.14359983801841736, 0.14359983801841736]\n",
            "\u001b[1m1/1\u001b[0m \u001b[32m━━━━━━━━━━━━━━━━━━━━\u001b[0m\u001b[37m\u001b[0m \u001b[1m0s\u001b[0m 74ms/step - loss: 0.1109 - mae: 0.1109\n",
            "Final mae test:  [0.11085780709981918, 0.11085780709981918]\n"
          ]
        }
      ]
    },
    {
      "cell_type": "code",
      "source": [
        "# Plotting function\n",
        "def plot_predictions(train_data=X_train,\n",
        "                     train_labels=y_train,\n",
        "                     test_data=X_test,\n",
        "                     test_labels=y_test,\n",
        "                     predictions=y_pred,\n",
        "                     extra_data=None,\n",
        "                     predict_extra_data=None):\n",
        "  plt.figure(figsize=(10, 7))\n",
        "  # Plot training data in black\n",
        "  plt.scatter(train_data, train_labels, c=\"k\", label=\"Training data\")\n",
        "  # Plot testing data in blue\n",
        "  plt.scatter(test_data, test_labels, c=\"b\", label=\"Testing data\")\n",
        "  # Plot model's predictions in magenta\n",
        "  plt.scatter(test_data, predictions, c=\"r\", label=\"Predictions\")\n",
        "  if extra_data is not None:\n",
        "    plt.scatter(extra_data, predict_extra_data, c=\"g\", label=\"Specific values\")\n",
        "  # Show the legend\n",
        "  plt.legend()\n",
        "  # set the axes titles\n",
        "  plt.ylabel(\"Salary\")\n",
        "  plt.xlabel(\"Years of experience\")\n",
        "\n",
        "  \"\"\" Function adapted/taken from:Tensorflow and DL with Python https://www.youtube.com/watch?v=tpCFfeUEGs8&ab_channel=DanielBourke\"\"\""
      ],
      "metadata": {
        "id": "V8XWNm0U_QiK"
      },
      "execution_count": null,
      "outputs": []
    },
    {
      "cell_type": "code",
      "source": [
        "# Evaluating especific values\n",
        "specific_years = np.array([[33]])\n",
        "# since the model was trained in normalized data, these values must be normalized as well.\n",
        "predict_specific_years = ct.named_transformers_['minmaxscaler'].transform(specific_years)\n",
        "predict_specific_years"
      ],
      "metadata": {
        "id": "iHX-iS_OzLUQ",
        "colab": {
          "base_uri": "https://localhost:8080/"
        },
        "outputId": "30e97698-456b-45af-94fb-728b3cce0ec6"
      },
      "execution_count": null,
      "outputs": [
        {
          "output_type": "stream",
          "name": "stderr",
          "text": [
            "/usr/local/lib/python3.11/dist-packages/sklearn/utils/validation.py:2739: UserWarning: X does not have valid feature names, but MinMaxScaler was fitted with feature names\n",
            "  warnings.warn(\n"
          ]
        },
        {
          "output_type": "execute_result",
          "data": {
            "text/plain": [
              "array([[0.97058824]])"
            ]
          },
          "metadata": {},
          "execution_count": 14
        }
      ]
    },
    {
      "cell_type": "code",
      "source": [
        "# inverse_transform your normalized data back to their original scale\n",
        "plot_predictions(train_data=ct.named_transformers_['minmaxscaler'].inverse_transform(X_train_normal),\n",
        "                 train_labels=ty.inverse_transform(y_train_normal),# For y I instanciated a obj and then I used the method .inverse_transform\n",
        "                 test_data=ct.named_transformers_['minmaxscaler'].inverse_transform(X_test_normal),# for the feature x I did not instanciate a obj so beggining from the\n",
        "                 #ct I look for the MinMaxScaler and then use its inverse_transform method.\n",
        "                 test_labels=ty.inverse_transform(y_test_normal),\n",
        "                 predictions=ty.inverse_transform(y_pred),\n",
        "                 extra_data=specific_years,\n",
        "                 predict_extra_data= ty.inverse_transform(predict_specific_years))"
      ],
      "metadata": {
        "id": "_6YmeXaw_6Ah",
        "colab": {
          "base_uri": "https://localhost:8080/",
          "height": 624
        },
        "outputId": "6b0d1cb6-f33a-4197-bf1a-b8d51780c006"
      },
      "execution_count": null,
      "outputs": [
        {
          "output_type": "display_data",
          "data": {
            "text/plain": [
              "<Figure size 1000x700 with 1 Axes>"
            ],
            "image/png": "[encoded data removed]"
          },
          "metadata": {}
        }
      ]
    }
  ]
}